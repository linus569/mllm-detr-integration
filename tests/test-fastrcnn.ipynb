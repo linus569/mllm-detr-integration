{
 "cells": [
  {
   "cell_type": "code",
   "execution_count": null,
   "metadata": {},
   "outputs": [],
   "source": [
    "%load_ext autoreload\n",
    "%autoreload 2"
   ]
  },
  {
   "cell_type": "markdown",
   "metadata": {},
   "source": [
    "## Imports"
   ]
  },
  {
   "cell_type": "code",
   "execution_count": null,
   "metadata": {},
   "outputs": [],
   "source": [
    "import sys\n",
    "import os\n",
    "\n",
    "import torch\n",
    "from llava.mm_utils import process_images\n",
    "from tqdm import tqdm\n",
    "from transformers import AutoTokenizer\n",
    "\n",
    "# Add the src directory to the Python path\n",
    "sys.path.append(os.path.abspath(os.path.join(os.getcwd(), \"..\", \"src\")))\n",
    "\n",
    "from utils.train_utils import build_dataloader, build_train_dataloader, build_val_dataloader\n",
    "from dataset.processor_fasterrcnn import FastRCNNProcessor\n",
    "from model.model import VisionLanguageModel\n",
    "from model.fastrcnn_adapter import FastRCNNAdapter\n",
    "from utils.config import DatasetConfig, ExperimentConfig\n",
    "from utils.train_metrics import TrainMetrics\n"
   ]
  },
  {
   "cell_type": "code",
   "execution_count": null,
   "metadata": {},
   "outputs": [],
   "source": [
    "#hydra imports\n",
    "import os\n",
    "from hydra import initialize, initialize_config_module, initialize_config_dir, compose\n",
    "from omegaconf import OmegaConf\n",
    "from hydra.core.config_store import ConfigStore\n",
    "\n",
    "OmegaConf.register_new_resolver(\n",
    "    \"ifel\", lambda flag, val_true, val_false: val_true if flag else val_false\n",
    ")"
   ]
  },
  {
   "cell_type": "markdown",
   "metadata": {},
   "source": [
    "## Load config"
   ]
  },
  {
   "cell_type": "code",
   "execution_count": null,
   "metadata": {},
   "outputs": [],
   "source": [
    "# load hydra configs\n",
    "cs = ConfigStore.instance()\n",
    "cs.store(name=\"ExperimentConfig\", node=ExperimentConfig)\n",
    "cs.store(name=\"DatasetConfig\", group=\"dataset\", node=DatasetConfig)\n",
    "# OmegaConf.register_new_resolver(\"models_dir\", lambda: MODELS_DIR)\n",
    "\n",
    "\n",
    "with initialize(version_base=None, config_path=\"../conf\"):\n",
    "    config = compose(config_name=\"train\", overrides=[\"+experiment=train_local_test\", \"main_dir='..'\"])\n",
    "    print(OmegaConf.to_yaml(config))"
   ]
  },
  {
   "cell_type": "markdown",
   "metadata": {},
   "source": [
    "## Load processor, tokenizer, val_dataloader, batch"
   ]
  },
  {
   "cell_type": "code",
   "execution_count": null,
   "metadata": {},
   "outputs": [],
   "source": [
    "MODEL_NAME = \"last_model_silver-field-126.pt\" #\"checkpoint_1_vital-sound-133_1741647312.pt\" #\"last_model_legendary-cloud-125.pt\"\n",
    "MODEL_NAME = \"checkpoint_3_rare-fire-135_1741767317.pt\" #\"checkpoint_3_balmy-snow-134_1741766686.pt\"\n",
    "config.num_coordinate_bins = 100\n",
    "config.model_name = \"fasterrcnn-resnet50-fpn\"\n",
    "\n",
    "processor = FastRCNNProcessor.from_config(config)\n",
    "tokenizer = processor.tokenizer"
   ]
  },
  {
   "cell_type": "code",
   "execution_count": null,
   "metadata": {},
   "outputs": [],
   "source": [
    "val_dataloader = build_val_dataloader(config=config, processor=processor, subset_size=10, use_random_subset=False)\n",
    "val_batch = list(val_dataloader)[1]   # get 2nd batch from val_dataloader\n",
    "\n",
    "val_batch"
   ]
  },
  {
   "cell_type": "code",
   "execution_count": null,
   "metadata": {},
   "outputs": [],
   "source": [
    "train_dataloader = build_train_dataloader(config=config, processor=processor, subset_size=10)\n",
    "train_batch = next(iter(train_dataloader))"
   ]
  },
  {
   "cell_type": "code",
   "execution_count": null,
   "metadata": {},
   "outputs": [],
   "source": [
    "model = FastRCNNAdapter(config)"
   ]
  },
  {
   "cell_type": "code",
   "execution_count": null,
   "metadata": {},
   "outputs": [],
   "source": [
    "# test model generate\n",
    "batch = val_batch\n",
    "images = batch[\"images\"]\n",
    "\n",
    "print(images.shape)\n",
    "\n",
    "output = model.generate(image=images)\n",
    "print(output)\n",
    "\n",
    "target_boxes = processor.postprocess_target_batch(batch=batch, device=config.device)\n",
    "print(target_boxes)\n",
    "\n",
    "metric = TrainMetrics(config.device, download_nltk=False)\n",
    "metric.update(output, target_boxes, None, None)\n",
    "print(metric.compute())"
   ]
  },
  {
   "cell_type": "code",
   "execution_count": null,
   "metadata": {},
   "outputs": [],
   "source": [
    "from llava.model.language_model.llava_qwen import LlavaQwenForCausalLM\n",
    "\n",
    "image_encoder = LlavaQwenForCausalLM.from_pretrained(\n",
    "    \"lmms-lab/llava-onevision-qwen2-0.5b-si\"\n",
    ").get_vision_tower()\n",
    "\n",
    "image_encoder(images)"
   ]
  },
  {
   "cell_type": "code",
   "execution_count": null,
   "metadata": {},
   "outputs": [],
   "source": [
    "# test model forward\n",
    "output = model(input_ids=input_ids, images=images, labels=target_boxes)\n",
    "print(output)"
   ]
  }
 ],
 "metadata": {
  "kernelspec": {
   "display_name": ".env",
   "language": "python",
   "name": "python3"
  },
  "language_info": {
   "codemirror_mode": {
    "name": "ipython",
    "version": 3
   },
   "file_extension": ".py",
   "mimetype": "text/x-python",
   "name": "python",
   "nbconvert_exporter": "python",
   "pygments_lexer": "ipython3",
   "version": "3.12.8"
  }
 },
 "nbformat": 4,
 "nbformat_minor": 2
}
